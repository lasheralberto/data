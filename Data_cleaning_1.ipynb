{
  "nbformat": 4,
  "nbformat_minor": 0,
  "metadata": {
    "colab": {
      "name": "Untitled3.ipynb",
      "provenance": [],
      "authorship_tag": "ABX9TyMnG8kVcR3qC19mVwMj/5XV",
      "include_colab_link": true
    },
    "kernelspec": {
      "name": "python3",
      "display_name": "Python 3"
    }
  },
  "cells": [
    {
      "cell_type": "markdown",
      "metadata": {
        "id": "view-in-github",
        "colab_type": "text"
      },
      "source": [
        "<a href=\"https://colab.research.google.com/github/lasheralberto/mygit/blob/main/Data_cleaning_1.ipynb\" target=\"_parent\"><img src=\"https://colab.research.google.com/assets/colab-badge.svg\" alt=\"Open In Colab\"/></a>"
      ]
    },
    {
      "cell_type": "code",
      "metadata": {
        "id": "z8Ohqo4zTW1A"
      },
      "source": [
        "import pandas as pd\n",
        "import numpy as np\n",
        "import seaborn as sns\n",
        "import matplotlib.pyplot as plt             #visualisation\n",
        "%matplotlib inline\n",
        "import os\n"
      ],
      "execution_count": 19,
      "outputs": []
    },
    {
      "cell_type": "code",
      "metadata": {
        "id": "etggsZj4UTIh",
        "outputId": "9d36de1e-ec0d-4152-c7e6-e69a64bc32b4",
        "colab": {
          "base_uri": "https://localhost:8080/",
          "height": 35
        }
      },
      "source": [
        "pwd"
      ],
      "execution_count": 20,
      "outputs": [
        {
          "output_type": "execute_result",
          "data": {
            "application/vnd.google.colaboratory.intrinsic+json": {
              "type": "string"
            },
            "text/plain": [
              "'/content'"
            ]
          },
          "metadata": {
            "tags": []
          },
          "execution_count": 20
        }
      ]
    },
    {
      "cell_type": "code",
      "metadata": {
        "id": "5C2hHxS-Tfxf",
        "outputId": "ad4c12bf-b02e-4745-e6d0-1853338c51c7",
        "colab": {
          "base_uri": "https://localhost:8080/",
          "height": 355
        }
      },
      "source": [
        "df=pd.read_csv(\"/content/heart.csv\")\n",
        "df.head(10)"
      ],
      "execution_count": 21,
      "outputs": [
        {
          "output_type": "execute_result",
          "data": {
            "text/html": [
              "<div>\n",
              "<style scoped>\n",
              "    .dataframe tbody tr th:only-of-type {\n",
              "        vertical-align: middle;\n",
              "    }\n",
              "\n",
              "    .dataframe tbody tr th {\n",
              "        vertical-align: top;\n",
              "    }\n",
              "\n",
              "    .dataframe thead th {\n",
              "        text-align: right;\n",
              "    }\n",
              "</style>\n",
              "<table border=\"1\" class=\"dataframe\">\n",
              "  <thead>\n",
              "    <tr style=\"text-align: right;\">\n",
              "      <th></th>\n",
              "      <th>age</th>\n",
              "      <th>sex</th>\n",
              "      <th>cp</th>\n",
              "      <th>trestbps</th>\n",
              "      <th>chol</th>\n",
              "      <th>fbs</th>\n",
              "      <th>restecg</th>\n",
              "      <th>thalach</th>\n",
              "      <th>exang</th>\n",
              "      <th>oldpeak</th>\n",
              "      <th>slope</th>\n",
              "      <th>ca</th>\n",
              "      <th>thal</th>\n",
              "      <th>target</th>\n",
              "    </tr>\n",
              "  </thead>\n",
              "  <tbody>\n",
              "    <tr>\n",
              "      <th>0</th>\n",
              "      <td>63</td>\n",
              "      <td>1</td>\n",
              "      <td>3</td>\n",
              "      <td>145</td>\n",
              "      <td>233</td>\n",
              "      <td>1</td>\n",
              "      <td>0</td>\n",
              "      <td>150</td>\n",
              "      <td>0</td>\n",
              "      <td>2.3</td>\n",
              "      <td>0</td>\n",
              "      <td>0</td>\n",
              "      <td>1</td>\n",
              "      <td>1</td>\n",
              "    </tr>\n",
              "    <tr>\n",
              "      <th>1</th>\n",
              "      <td>37</td>\n",
              "      <td>1</td>\n",
              "      <td>2</td>\n",
              "      <td>130</td>\n",
              "      <td>250</td>\n",
              "      <td>0</td>\n",
              "      <td>1</td>\n",
              "      <td>187</td>\n",
              "      <td>0</td>\n",
              "      <td>3.5</td>\n",
              "      <td>0</td>\n",
              "      <td>0</td>\n",
              "      <td>2</td>\n",
              "      <td>1</td>\n",
              "    </tr>\n",
              "    <tr>\n",
              "      <th>2</th>\n",
              "      <td>41</td>\n",
              "      <td>0</td>\n",
              "      <td>1</td>\n",
              "      <td>130</td>\n",
              "      <td>204</td>\n",
              "      <td>0</td>\n",
              "      <td>0</td>\n",
              "      <td>172</td>\n",
              "      <td>0</td>\n",
              "      <td>1.4</td>\n",
              "      <td>2</td>\n",
              "      <td>0</td>\n",
              "      <td>2</td>\n",
              "      <td>1</td>\n",
              "    </tr>\n",
              "    <tr>\n",
              "      <th>3</th>\n",
              "      <td>56</td>\n",
              "      <td>1</td>\n",
              "      <td>1</td>\n",
              "      <td>120</td>\n",
              "      <td>236</td>\n",
              "      <td>0</td>\n",
              "      <td>1</td>\n",
              "      <td>178</td>\n",
              "      <td>0</td>\n",
              "      <td>0.8</td>\n",
              "      <td>2</td>\n",
              "      <td>0</td>\n",
              "      <td>2</td>\n",
              "      <td>1</td>\n",
              "    </tr>\n",
              "    <tr>\n",
              "      <th>4</th>\n",
              "      <td>57</td>\n",
              "      <td>0</td>\n",
              "      <td>0</td>\n",
              "      <td>120</td>\n",
              "      <td>354</td>\n",
              "      <td>0</td>\n",
              "      <td>1</td>\n",
              "      <td>163</td>\n",
              "      <td>1</td>\n",
              "      <td>0.6</td>\n",
              "      <td>2</td>\n",
              "      <td>0</td>\n",
              "      <td>2</td>\n",
              "      <td>1</td>\n",
              "    </tr>\n",
              "    <tr>\n",
              "      <th>5</th>\n",
              "      <td>57</td>\n",
              "      <td>1</td>\n",
              "      <td>0</td>\n",
              "      <td>140</td>\n",
              "      <td>192</td>\n",
              "      <td>0</td>\n",
              "      <td>1</td>\n",
              "      <td>148</td>\n",
              "      <td>0</td>\n",
              "      <td>0.4</td>\n",
              "      <td>1</td>\n",
              "      <td>0</td>\n",
              "      <td>1</td>\n",
              "      <td>1</td>\n",
              "    </tr>\n",
              "    <tr>\n",
              "      <th>6</th>\n",
              "      <td>56</td>\n",
              "      <td>0</td>\n",
              "      <td>1</td>\n",
              "      <td>140</td>\n",
              "      <td>294</td>\n",
              "      <td>0</td>\n",
              "      <td>0</td>\n",
              "      <td>153</td>\n",
              "      <td>0</td>\n",
              "      <td>1.3</td>\n",
              "      <td>1</td>\n",
              "      <td>0</td>\n",
              "      <td>2</td>\n",
              "      <td>1</td>\n",
              "    </tr>\n",
              "    <tr>\n",
              "      <th>7</th>\n",
              "      <td>44</td>\n",
              "      <td>1</td>\n",
              "      <td>1</td>\n",
              "      <td>120</td>\n",
              "      <td>263</td>\n",
              "      <td>0</td>\n",
              "      <td>1</td>\n",
              "      <td>173</td>\n",
              "      <td>0</td>\n",
              "      <td>0.0</td>\n",
              "      <td>2</td>\n",
              "      <td>0</td>\n",
              "      <td>3</td>\n",
              "      <td>1</td>\n",
              "    </tr>\n",
              "    <tr>\n",
              "      <th>8</th>\n",
              "      <td>52</td>\n",
              "      <td>1</td>\n",
              "      <td>2</td>\n",
              "      <td>172</td>\n",
              "      <td>199</td>\n",
              "      <td>1</td>\n",
              "      <td>1</td>\n",
              "      <td>162</td>\n",
              "      <td>0</td>\n",
              "      <td>0.5</td>\n",
              "      <td>2</td>\n",
              "      <td>0</td>\n",
              "      <td>3</td>\n",
              "      <td>1</td>\n",
              "    </tr>\n",
              "    <tr>\n",
              "      <th>9</th>\n",
              "      <td>57</td>\n",
              "      <td>1</td>\n",
              "      <td>2</td>\n",
              "      <td>150</td>\n",
              "      <td>168</td>\n",
              "      <td>0</td>\n",
              "      <td>1</td>\n",
              "      <td>174</td>\n",
              "      <td>0</td>\n",
              "      <td>1.6</td>\n",
              "      <td>2</td>\n",
              "      <td>0</td>\n",
              "      <td>2</td>\n",
              "      <td>1</td>\n",
              "    </tr>\n",
              "  </tbody>\n",
              "</table>\n",
              "</div>"
            ],
            "text/plain": [
              "   age  sex  cp  trestbps  chol  fbs  ...  exang  oldpeak  slope  ca  thal  target\n",
              "0   63    1   3       145   233    1  ...      0      2.3      0   0     1       1\n",
              "1   37    1   2       130   250    0  ...      0      3.5      0   0     2       1\n",
              "2   41    0   1       130   204    0  ...      0      1.4      2   0     2       1\n",
              "3   56    1   1       120   236    0  ...      0      0.8      2   0     2       1\n",
              "4   57    0   0       120   354    0  ...      1      0.6      2   0     2       1\n",
              "5   57    1   0       140   192    0  ...      0      0.4      1   0     1       1\n",
              "6   56    0   1       140   294    0  ...      0      1.3      1   0     2       1\n",
              "7   44    1   1       120   263    0  ...      0      0.0      2   0     3       1\n",
              "8   52    1   2       172   199    1  ...      0      0.5      2   0     3       1\n",
              "9   57    1   2       150   168    0  ...      0      1.6      2   0     2       1\n",
              "\n",
              "[10 rows x 14 columns]"
            ]
          },
          "metadata": {
            "tags": []
          },
          "execution_count": 21
        }
      ]
    },
    {
      "cell_type": "code",
      "metadata": {
        "id": "19uYs4JrVLIU",
        "outputId": "d41dad80-cd65-4c0f-faa3-be8bcfcd25a3",
        "colab": {
          "base_uri": "https://localhost:8080/",
          "height": 277
        }
      },
      "source": [
        "df.count()"
      ],
      "execution_count": 22,
      "outputs": [
        {
          "output_type": "execute_result",
          "data": {
            "text/plain": [
              "age         303\n",
              "sex         303\n",
              "cp          303\n",
              "trestbps    303\n",
              "chol        303\n",
              "fbs         303\n",
              "restecg     303\n",
              "thalach     303\n",
              "exang       303\n",
              "oldpeak     303\n",
              "slope       303\n",
              "ca          303\n",
              "thal        303\n",
              "target      303\n",
              "dtype: int64"
            ]
          },
          "metadata": {
            "tags": []
          },
          "execution_count": 22
        }
      ]
    },
    {
      "cell_type": "code",
      "metadata": {
        "id": "wZcEcTvCrgFK",
        "outputId": "3c3dbc0e-6472-415e-bce1-6f4fa1f0aed2",
        "colab": {
          "base_uri": "https://localhost:8080/",
          "height": 35
        }
      },
      "source": [
        "df.shape"
      ],
      "execution_count": 23,
      "outputs": [
        {
          "output_type": "execute_result",
          "data": {
            "text/plain": [
              "(303, 14)"
            ]
          },
          "metadata": {
            "tags": []
          },
          "execution_count": 23
        }
      ]
    },
    {
      "cell_type": "code",
      "metadata": {
        "id": "wfeYw8x5VQaI",
        "outputId": "1b2b4437-1df6-4294-8b79-98f9c74b724f",
        "colab": {
          "base_uri": "https://localhost:8080/",
          "height": 277
        }
      },
      "source": [
        "df.dropna()\n",
        "print(df.isnull().sum())"
      ],
      "execution_count": 24,
      "outputs": [
        {
          "output_type": "stream",
          "text": [
            "age         0\n",
            "sex         0\n",
            "cp          0\n",
            "trestbps    0\n",
            "chol        0\n",
            "fbs         0\n",
            "restecg     0\n",
            "thalach     0\n",
            "exang       0\n",
            "oldpeak     0\n",
            "slope       0\n",
            "ca          0\n",
            "thal        0\n",
            "target      0\n",
            "dtype: int64\n"
          ],
          "name": "stdout"
        }
      ]
    },
    {
      "cell_type": "code",
      "metadata": {
        "id": "y9BFSUh4VdGO",
        "outputId": "be60a294-3312-4f6c-e74e-776e5a49aa93",
        "colab": {
          "base_uri": "https://localhost:8080/",
          "height": 297
        }
      },
      "source": [
        "sns.boxplot(x=df[\"oldpeak\"])"
      ],
      "execution_count": 25,
      "outputs": [
        {
          "output_type": "execute_result",
          "data": {
            "text/plain": [
              "<matplotlib.axes._subplots.AxesSubplot at 0x7f3fbade8b70>"
            ]
          },
          "metadata": {
            "tags": []
          },
          "execution_count": 25
        },
        {
          "output_type": "display_data",
          "data": {
            "image/png": "[encoded data removed]",
            "text/plain": [
              "<Figure size 432x288 with 1 Axes>"
            ]
          },
          "metadata": {
            "tags": [],
            "needs_background": "light"
          }
        }
      ]
    },
    {
      "cell_type": "code",
      "metadata": {
        "id": "A5wHEuQxVu94",
        "outputId": "55c3b946-5bd9-4d16-a8f9-be0ccff8a992",
        "colab": {
          "base_uri": "https://localhost:8080/",
          "height": 277
        }
      },
      "source": [
        "Q1=df.quantile(0.25)\n",
        "Q3=df.quantile(0.75)\n",
        "IQR=Q3-Q1\n",
        "print(IQR)"
      ],
      "execution_count": 26,
      "outputs": [
        {
          "output_type": "stream",
          "text": [
            "age         13.5\n",
            "sex          1.0\n",
            "cp           2.0\n",
            "trestbps    20.0\n",
            "chol        63.5\n",
            "fbs          0.0\n",
            "restecg      1.0\n",
            "thalach     32.5\n",
            "exang        1.0\n",
            "oldpeak      1.6\n",
            "slope        1.0\n",
            "ca           1.0\n",
            "thal         1.0\n",
            "target       1.0\n",
            "dtype: float64\n"
          ],
          "name": "stdout"
        }
      ]
    },
    {
      "cell_type": "code",
      "metadata": {
        "id": "NK_spcSzV7ff",
        "outputId": "f84c9976-94c6-4115-cb89-83902084c8a1",
        "colab": {
          "base_uri": "https://localhost:8080/",
          "height": 35
        }
      },
      "source": [
        "df = df[~((df < (Q1 - 1.5 * IQR)) |(df > (Q3 + 1.5 * IQR))).any(axis=1)]\n",
        "df.shape"
      ],
      "execution_count": 27,
      "outputs": [
        {
          "output_type": "execute_result",
          "data": {
            "text/plain": [
              "(228, 14)"
            ]
          },
          "metadata": {
            "tags": []
          },
          "execution_count": 27
        }
      ]
    },
    {
      "cell_type": "code",
      "metadata": {
        "id": "BT63Qzgvrpbw",
        "outputId": "09de727c-66a5-48bd-ac7e-8e3eb430ef5d",
        "colab": {
          "base_uri": "https://localhost:8080/",
          "height": 835
        }
      },
      "source": [
        "plt.figure(figsize=(10,5))\n",
        "c= df.corr()\n",
        "sns.heatmap(c,cmap=\"BrBG\",annot=True)\n",
        "c"
      ],
      "execution_count": 28,
      "outputs": [
        {
          "output_type": "execute_result",
          "data": {
            "text/html": [
              "<div>\n",
              "<style scoped>\n",
              "    .dataframe tbody tr th:only-of-type {\n",
              "        vertical-align: middle;\n",
              "    }\n",
              "\n",
              "    .dataframe tbody tr th {\n",
              "        vertical-align: top;\n",
              "    }\n",
              "\n",
              "    .dataframe thead th {\n",
              "        text-align: right;\n",
              "    }\n",
              "</style>\n",
              "<table border=\"1\" class=\"dataframe\">\n",
              "  <thead>\n",
              "    <tr style=\"text-align: right;\">\n",
              "      <th></th>\n",
              "      <th>age</th>\n",
              "      <th>sex</th>\n",
              "      <th>cp</th>\n",
              "      <th>trestbps</th>\n",
              "      <th>chol</th>\n",
              "      <th>fbs</th>\n",
              "      <th>restecg</th>\n",
              "      <th>thalach</th>\n",
              "      <th>exang</th>\n",
              "      <th>oldpeak</th>\n",
              "      <th>slope</th>\n",
              "      <th>ca</th>\n",
              "      <th>thal</th>\n",
              "      <th>target</th>\n",
              "    </tr>\n",
              "  </thead>\n",
              "  <tbody>\n",
              "    <tr>\n",
              "      <th>age</th>\n",
              "      <td>1.000000</td>\n",
              "      <td>-0.088839</td>\n",
              "      <td>-0.078448</td>\n",
              "      <td>0.266698</td>\n",
              "      <td>0.172527</td>\n",
              "      <td>NaN</td>\n",
              "      <td>-0.082927</td>\n",
              "      <td>-0.413016</td>\n",
              "      <td>0.123981</td>\n",
              "      <td>0.219390</td>\n",
              "      <td>-0.161019</td>\n",
              "      <td>0.391099</td>\n",
              "      <td>0.124380</td>\n",
              "      <td>-0.215120</td>\n",
              "    </tr>\n",
              "    <tr>\n",
              "      <th>sex</th>\n",
              "      <td>-0.088839</td>\n",
              "      <td>1.000000</td>\n",
              "      <td>-0.121648</td>\n",
              "      <td>-0.001433</td>\n",
              "      <td>-0.093058</td>\n",
              "      <td>NaN</td>\n",
              "      <td>-0.116956</td>\n",
              "      <td>-0.086734</td>\n",
              "      <td>0.208950</td>\n",
              "      <td>0.178690</td>\n",
              "      <td>-0.009104</td>\n",
              "      <td>0.099091</td>\n",
              "      <td>0.274262</td>\n",
              "      <td>-0.363483</td>\n",
              "    </tr>\n",
              "    <tr>\n",
              "      <th>cp</th>\n",
              "      <td>-0.078448</td>\n",
              "      <td>-0.121648</td>\n",
              "      <td>1.000000</td>\n",
              "      <td>0.083476</td>\n",
              "      <td>-0.047258</td>\n",
              "      <td>NaN</td>\n",
              "      <td>0.076362</td>\n",
              "      <td>0.277964</td>\n",
              "      <td>-0.351256</td>\n",
              "      <td>-0.108435</td>\n",
              "      <td>0.101887</td>\n",
              "      <td>-0.196373</td>\n",
              "      <td>-0.153325</td>\n",
              "      <td>0.371115</td>\n",
              "    </tr>\n",
              "    <tr>\n",
              "      <th>trestbps</th>\n",
              "      <td>0.266698</td>\n",
              "      <td>-0.001433</td>\n",
              "      <td>0.083476</td>\n",
              "      <td>1.000000</td>\n",
              "      <td>0.126974</td>\n",
              "      <td>NaN</td>\n",
              "      <td>-0.110594</td>\n",
              "      <td>-0.026792</td>\n",
              "      <td>-0.019909</td>\n",
              "      <td>0.131845</td>\n",
              "      <td>-0.026418</td>\n",
              "      <td>0.027864</td>\n",
              "      <td>0.057721</td>\n",
              "      <td>-0.092560</td>\n",
              "    </tr>\n",
              "    <tr>\n",
              "      <th>chol</th>\n",
              "      <td>0.172527</td>\n",
              "      <td>-0.093058</td>\n",
              "      <td>-0.047258</td>\n",
              "      <td>0.126974</td>\n",
              "      <td>1.000000</td>\n",
              "      <td>NaN</td>\n",
              "      <td>-0.100622</td>\n",
              "      <td>-0.016899</td>\n",
              "      <td>0.019446</td>\n",
              "      <td>-0.030397</td>\n",
              "      <td>0.066865</td>\n",
              "      <td>0.108537</td>\n",
              "      <td>0.077890</td>\n",
              "      <td>-0.067321</td>\n",
              "    </tr>\n",
              "    <tr>\n",
              "      <th>fbs</th>\n",
              "      <td>NaN</td>\n",
              "      <td>NaN</td>\n",
              "      <td>NaN</td>\n",
              "      <td>NaN</td>\n",
              "      <td>NaN</td>\n",
              "      <td>NaN</td>\n",
              "      <td>NaN</td>\n",
              "      <td>NaN</td>\n",
              "      <td>NaN</td>\n",
              "      <td>NaN</td>\n",
              "      <td>NaN</td>\n",
              "      <td>NaN</td>\n",
              "      <td>NaN</td>\n",
              "      <td>NaN</td>\n",
              "    </tr>\n",
              "    <tr>\n",
              "      <th>restecg</th>\n",
              "      <td>-0.082927</td>\n",
              "      <td>-0.116956</td>\n",
              "      <td>0.076362</td>\n",
              "      <td>-0.110594</td>\n",
              "      <td>-0.100622</td>\n",
              "      <td>NaN</td>\n",
              "      <td>1.000000</td>\n",
              "      <td>0.033100</td>\n",
              "      <td>-0.063645</td>\n",
              "      <td>-0.081251</td>\n",
              "      <td>0.094807</td>\n",
              "      <td>-0.082538</td>\n",
              "      <td>0.008018</td>\n",
              "      <td>0.131641</td>\n",
              "    </tr>\n",
              "    <tr>\n",
              "      <th>thalach</th>\n",
              "      <td>-0.413016</td>\n",
              "      <td>-0.086734</td>\n",
              "      <td>0.277964</td>\n",
              "      <td>-0.026792</td>\n",
              "      <td>-0.016899</td>\n",
              "      <td>NaN</td>\n",
              "      <td>0.033100</td>\n",
              "      <td>1.000000</td>\n",
              "      <td>-0.449447</td>\n",
              "      <td>-0.372484</td>\n",
              "      <td>0.418646</td>\n",
              "      <td>-0.272552</td>\n",
              "      <td>-0.216389</td>\n",
              "      <td>0.417870</td>\n",
              "    </tr>\n",
              "    <tr>\n",
              "      <th>exang</th>\n",
              "      <td>0.123981</td>\n",
              "      <td>0.208950</td>\n",
              "      <td>-0.351256</td>\n",
              "      <td>-0.019909</td>\n",
              "      <td>0.019446</td>\n",
              "      <td>NaN</td>\n",
              "      <td>-0.063645</td>\n",
              "      <td>-0.449447</td>\n",
              "      <td>1.000000</td>\n",
              "      <td>0.358779</td>\n",
              "      <td>-0.281890</td>\n",
              "      <td>0.197251</td>\n",
              "      <td>0.274480</td>\n",
              "      <td>-0.414407</td>\n",
              "    </tr>\n",
              "    <tr>\n",
              "      <th>oldpeak</th>\n",
              "      <td>0.219390</td>\n",
              "      <td>0.178690</td>\n",
              "      <td>-0.108435</td>\n",
              "      <td>0.131845</td>\n",
              "      <td>-0.030397</td>\n",
              "      <td>NaN</td>\n",
              "      <td>-0.081251</td>\n",
              "      <td>-0.372484</td>\n",
              "      <td>0.358779</td>\n",
              "      <td>1.000000</td>\n",
              "      <td>-0.515543</td>\n",
              "      <td>0.332854</td>\n",
              "      <td>0.220089</td>\n",
              "      <td>-0.439194</td>\n",
              "    </tr>\n",
              "    <tr>\n",
              "      <th>slope</th>\n",
              "      <td>-0.161019</td>\n",
              "      <td>-0.009104</td>\n",
              "      <td>0.101887</td>\n",
              "      <td>-0.026418</td>\n",
              "      <td>0.066865</td>\n",
              "      <td>NaN</td>\n",
              "      <td>0.094807</td>\n",
              "      <td>0.418646</td>\n",
              "      <td>-0.281890</td>\n",
              "      <td>-0.515543</td>\n",
              "      <td>1.000000</td>\n",
              "      <td>-0.088348</td>\n",
              "      <td>-0.100647</td>\n",
              "      <td>0.323569</td>\n",
              "    </tr>\n",
              "    <tr>\n",
              "      <th>ca</th>\n",
              "      <td>0.391099</td>\n",
              "      <td>0.099091</td>\n",
              "      <td>-0.196373</td>\n",
              "      <td>0.027864</td>\n",
              "      <td>0.108537</td>\n",
              "      <td>NaN</td>\n",
              "      <td>-0.082538</td>\n",
              "      <td>-0.272552</td>\n",
              "      <td>0.197251</td>\n",
              "      <td>0.332854</td>\n",
              "      <td>-0.088348</td>\n",
              "      <td>1.000000</td>\n",
              "      <td>0.175250</td>\n",
              "      <td>-0.447167</td>\n",
              "    </tr>\n",
              "    <tr>\n",
              "      <th>thal</th>\n",
              "      <td>0.124380</td>\n",
              "      <td>0.274262</td>\n",
              "      <td>-0.153325</td>\n",
              "      <td>0.057721</td>\n",
              "      <td>0.077890</td>\n",
              "      <td>NaN</td>\n",
              "      <td>0.008018</td>\n",
              "      <td>-0.216389</td>\n",
              "      <td>0.274480</td>\n",
              "      <td>0.220089</td>\n",
              "      <td>-0.100647</td>\n",
              "      <td>0.175250</td>\n",
              "      <td>1.000000</td>\n",
              "      <td>-0.455780</td>\n",
              "    </tr>\n",
              "    <tr>\n",
              "      <th>target</th>\n",
              "      <td>-0.215120</td>\n",
              "      <td>-0.363483</td>\n",
              "      <td>0.371115</td>\n",
              "      <td>-0.092560</td>\n",
              "      <td>-0.067321</td>\n",
              "      <td>NaN</td>\n",
              "      <td>0.131641</td>\n",
              "      <td>0.417870</td>\n",
              "      <td>-0.414407</td>\n",
              "      <td>-0.439194</td>\n",
              "      <td>0.323569</td>\n",
              "      <td>-0.447167</td>\n",
              "      <td>-0.455780</td>\n",
              "      <td>1.000000</td>\n",
              "    </tr>\n",
              "  </tbody>\n",
              "</table>\n",
              "</div>"
            ],
            "text/plain": [
              "               age       sex        cp  ...        ca      thal    target\n",
              "age       1.000000 -0.088839 -0.078448  ...  0.391099  0.124380 -0.215120\n",
              "sex      -0.088839  1.000000 -0.121648  ...  0.099091  0.274262 -0.363483\n",
              "cp       -0.078448 -0.121648  1.000000  ... -0.196373 -0.153325  0.371115\n",
              "trestbps  0.266698 -0.001433  0.083476  ...  0.027864  0.057721 -0.092560\n",
              "chol      0.172527 -0.093058 -0.047258  ...  0.108537  0.077890 -0.067321\n",
              "fbs            NaN       NaN       NaN  ...       NaN       NaN       NaN\n",
              "restecg  -0.082927 -0.116956  0.076362  ... -0.082538  0.008018  0.131641\n",
              "thalach  -0.413016 -0.086734  0.277964  ... -0.272552 -0.216389  0.417870\n",
              "exang     0.123981  0.208950 -0.351256  ...  0.197251  0.274480 -0.414407\n",
              "oldpeak   0.219390  0.178690 -0.108435  ...  0.332854  0.220089 -0.439194\n",
              "slope    -0.161019 -0.009104  0.101887  ... -0.088348 -0.100647  0.323569\n",
              "ca        0.391099  0.099091 -0.196373  ...  1.000000  0.175250 -0.447167\n",
              "thal      0.124380  0.274262 -0.153325  ...  0.175250  1.000000 -0.455780\n",
              "target   -0.215120 -0.363483  0.371115  ... -0.447167 -0.455780  1.000000\n",
              "\n",
              "[14 rows x 14 columns]"
            ]
          },
          "metadata": {
            "tags": []
          },
          "execution_count": 28
        },
        {
          "output_type": "display_data",
          "data": {
            "image/png": "[encoded data removed]",
            "text/plain": [
              "<Figure size 720x360 with 2 Axes>"
            ]
          },
          "metadata": {
            "tags": [],
            "needs_background": "light"
          }
        }
      ]
    },
    {
      "cell_type": "code",
      "metadata": {
        "id": "59wA9uLMsQns"
      },
      "source": [
        ""
      ],
      "execution_count": null,
      "outputs": []
    }
  ]
}